{
 "cells": [
  {
   "cell_type": "markdown",
   "id": "8486efdf",
   "metadata": {},
   "source": [
    "# Imports"
   ]
  },
  {
   "cell_type": "code",
   "execution_count": 1,
   "id": "ecee89cf",
   "metadata": {},
   "outputs": [],
   "source": [
    "import numpy as np\n",
    "import pandas as pd\n",
    "import random\n",
    "import seaborn as sns\n",
    "import matplotlib.pyplot as plt\n",
    "import matplotlib.cm as cm\n",
    "\n",
    "import os\n",
    "\n",
    "import sys\n",
    "sys.path.insert(1, './../src/')\n",
    "\n",
    "import time \n",
    "\n",
    "import load_option_data_01 \n",
    "\n",
    "from pathlib import Path\n",
    "\n",
    "import bsm_pricer as bsm\n",
    "import config\n",
    "import datetime\n",
    "import level_1_filters as f1\n",
    "import level_2_filters as f2\n",
    "import level_3_filters as f3\n",
    "import load_option_data_01 \n",
    "import load_option_data_01 as l1\n",
    "\n",
    "\n",
    "import time \n",
    "import warnings\n",
    "import wrds\n",
    "\n",
    "from scipy.stats import norm\n",
    "from scipy.spatial.distance import cdist"
   ]
  },
  {
   "cell_type": "code",
   "execution_count": 2,
   "id": "be8509d7",
   "metadata": {},
   "outputs": [],
   "source": [
    "import importlib"
   ]
  },
  {
   "cell_type": "code",
   "execution_count": 3,
   "id": "21d0cd90",
   "metadata": {},
   "outputs": [],
   "source": [
    "import plotly.express as px\n",
    "import plotly.graph_objects as go\n",
    "import plotly.io as pio\n",
    "\n",
    "pio.templates.default = \"plotly_white\"\n",
    "warnings.filterwarnings(\"ignore\")"
   ]
  },
  {
   "cell_type": "code",
   "execution_count": 4,
   "id": "2275867f",
   "metadata": {},
   "outputs": [],
   "source": [
    "OUTPUT_DIR = Path(config.OUTPUT_DIR)\n",
    "DATA_DIR = Path(config.DATA_DIR)\n",
    "WRDS_USERNAME = config.WRDS_USERNAME\n",
    "\n",
    "START_DATE_01 =config.START_DATE_01\n",
    "END_DATE_01 = config.END_DATE_01\n",
    "\n",
    "START_DATE_02 =config.START_DATE_02\n",
    "END_DATE_02 = config.END_DATE_02\n",
    "\n",
    "NOTE_START = START_DATE_01\n",
    "NOTE_END = END_DATE_01"
   ]
  },
  {
   "cell_type": "code",
   "execution_count": 5,
   "id": "b8a18448",
   "metadata": {},
   "outputs": [],
   "source": [
    "DATE_RANGE =f'{pd.Timestamp(START_DATE_01):%Y-%m}_{pd.Timestamp(END_DATE_02):%Y-%m}'"
   ]
  },
  {
   "cell_type": "markdown",
   "id": "d6d24def",
   "metadata": {},
   "source": [
    "# Functions"
   ]
  },
  {
   "cell_type": "code",
   "execution_count": 6,
   "id": "a1e7fee1",
   "metadata": {},
   "outputs": [],
   "source": [
    "# --- Black-Scholes elasticity ---\n",
    "def bs_elasticity(S, K, T, r, sigma, option_type='call'):\n",
    "    d1 = (np.log(S / K) + (r + 0.5 * sigma ** 2) * T) / (sigma * np.sqrt(T))\n",
    "    if option_type == 'call':\n",
    "        price = S * norm.cdf(d1) - K * np.exp(-r * T) * norm.cdf(d1 - sigma * np.sqrt(T))\n",
    "        delta = norm.cdf(d1)\n",
    "    else:\n",
    "        price = K * np.exp(-r * T) * norm.cdf(-d1 + sigma * np.sqrt(T)) - S * norm.cdf(-d1)\n",
    "        delta = -norm.cdf(-d1)\n",
    "    return (delta * S / price), price\n",
    "\n",
    "# --- Kernel Weights ---\n",
    "def kernel_weights(moneyness_grid, maturity_grid, k_s, ttm, bw_m=0.0125, bw_t=10):\n",
    "    grid = np.column_stack((moneyness_grid, maturity_grid))\n",
    "    point = np.array([[k_s, ttm]])\n",
    "    dists = cdist(grid, point, 'euclidean')[:, 0]\n",
    "    weights = np.exp(-0.5 * (dists / np.array([bw_m, bw_t])).sum())\n",
    "    return weights / weights.sum()\n",
    "\n",
    "# --- Construct a single day portfolio ---\n",
    "def construct_portfolio(data, k_s_target, ttm_target, option_type='call', r=0.01):\n",
    "    subset = data[(data['option_type'] == option_type)]\n",
    "    weights = kernel_weights(subset['moneyness'], subset['ttm'], k_s_target, ttm_target)\n",
    "    subset = subset.assign(weight=weights)\n",
    "    subset = subset[subset['weight'] > 0.01]\n",
    "    subset['weight'] /= subset['weight'].sum()\n",
    "\n",
    "    # Leverage-adjusted returns\n",
    "    elast, price = bs_elasticity(\n",
    "        S=subset['underlying'], K=subset['strike'], T=subset['ttm']/365,\n",
    "        r=r, sigma=subset['iv'], option_type=option_type\n",
    "    )\n",
    "    subset['leverage_return'] = subset['daily_return'] / elast\n",
    "\n",
    "    return (subset['leverage_return'] * subset['weight']).sum()\n",
    "\n",
    "# --- Main Loop (simplified) ---\n",
    "def build_portfolios(option_data, m_grid, ttm_grid, option_types=['call', 'put']):\n",
    "    portfolios = []\n",
    "    for opt_type in option_types:\n",
    "        for k_s in m_grid:\n",
    "            for ttm in ttm_grid:\n",
    "                ret = construct_portfolio(option_data, k_s, ttm, option_type=opt_type)\n",
    "                portfolios.append({\n",
    "                    'type': opt_type,\n",
    "                    'moneyness': k_s,\n",
    "                    'ttm': ttm,\n",
    "                    'return': ret\n",
    "                })\n",
    "    return pd.DataFrame(portfolios)\n"
   ]
  },
  {
   "cell_type": "code",
   "execution_count": 7,
   "id": "49448064",
   "metadata": {},
   "outputs": [
    {
     "ename": "FileNotFoundError",
     "evalue": "[Errno 2] No such file or directory: 'C:\\\\Users\\\\viren\\\\Documents\\\\GitHub\\\\constantinides_2013_options\\\\data\\\\spx_filtered_final_1996-01_2019-12.parquet'",
     "output_type": "error",
     "traceback": [
      "\u001b[1;31m---------------------------------------------------------------------------\u001b[0m",
      "\u001b[1;31mFileNotFoundError\u001b[0m                         Traceback (most recent call last)",
      "Cell \u001b[1;32mIn[7], line 3\u001b[0m\n\u001b[0;32m      1\u001b[0m \u001b[38;5;66;03m# read filtered data\u001b[39;00m\n\u001b[1;32m----> 3\u001b[0m spx_filtered \u001b[38;5;241m=\u001b[39m \u001b[43mpd\u001b[49m\u001b[38;5;241;43m.\u001b[39;49m\u001b[43mread_parquet\u001b[49m\u001b[43m(\u001b[49m\u001b[43mPath\u001b[49m\u001b[43m(\u001b[49m\u001b[43mDATA_DIR\u001b[49m\u001b[43m \u001b[49m\u001b[38;5;241;43m/\u001b[39;49m\u001b[43m \u001b[49m\u001b[38;5;124;43mf\u001b[39;49m\u001b[38;5;124;43m'\u001b[39;49m\u001b[38;5;124;43mspx_filtered_final_\u001b[39;49m\u001b[38;5;132;43;01m{\u001b[39;49;00m\u001b[43mDATE_RANGE\u001b[49m\u001b[38;5;132;43;01m}\u001b[39;49;00m\u001b[38;5;124;43m.parquet\u001b[39;49m\u001b[38;5;124;43m'\u001b[39;49m\u001b[43m)\u001b[49m\u001b[43m)\u001b[49m\n\u001b[0;32m      4\u001b[0m spx_filtered\n",
      "File \u001b[1;32mc:\\Users\\viren\\anaconda3\\envs\\puzzle\\Lib\\site-packages\\pandas\\io\\parquet.py:670\u001b[0m, in \u001b[0;36mread_parquet\u001b[1;34m(path, engine, columns, storage_options, use_nullable_dtypes, dtype_backend, filesystem, filters, **kwargs)\u001b[0m\n\u001b[0;32m    667\u001b[0m     use_nullable_dtypes \u001b[38;5;241m=\u001b[39m \u001b[38;5;28;01mFalse\u001b[39;00m\n\u001b[0;32m    668\u001b[0m check_dtype_backend(dtype_backend)\n\u001b[1;32m--> 670\u001b[0m \u001b[38;5;28;01mreturn\u001b[39;00m \u001b[43mimpl\u001b[49m\u001b[38;5;241;43m.\u001b[39;49m\u001b[43mread\u001b[49m\u001b[43m(\u001b[49m\n\u001b[0;32m    671\u001b[0m \u001b[43m    \u001b[49m\u001b[43mpath\u001b[49m\u001b[43m,\u001b[49m\n\u001b[0;32m    672\u001b[0m \u001b[43m    \u001b[49m\u001b[43mcolumns\u001b[49m\u001b[38;5;241;43m=\u001b[39;49m\u001b[43mcolumns\u001b[49m\u001b[43m,\u001b[49m\n\u001b[0;32m    673\u001b[0m \u001b[43m    \u001b[49m\u001b[43mfilters\u001b[49m\u001b[38;5;241;43m=\u001b[39;49m\u001b[43mfilters\u001b[49m\u001b[43m,\u001b[49m\n\u001b[0;32m    674\u001b[0m \u001b[43m    \u001b[49m\u001b[43mstorage_options\u001b[49m\u001b[38;5;241;43m=\u001b[39;49m\u001b[43mstorage_options\u001b[49m\u001b[43m,\u001b[49m\n\u001b[0;32m    675\u001b[0m \u001b[43m    \u001b[49m\u001b[43muse_nullable_dtypes\u001b[49m\u001b[38;5;241;43m=\u001b[39;49m\u001b[43muse_nullable_dtypes\u001b[49m\u001b[43m,\u001b[49m\n\u001b[0;32m    676\u001b[0m \u001b[43m    \u001b[49m\u001b[43mdtype_backend\u001b[49m\u001b[38;5;241;43m=\u001b[39;49m\u001b[43mdtype_backend\u001b[49m\u001b[43m,\u001b[49m\n\u001b[0;32m    677\u001b[0m \u001b[43m    \u001b[49m\u001b[43mfilesystem\u001b[49m\u001b[38;5;241;43m=\u001b[39;49m\u001b[43mfilesystem\u001b[49m\u001b[43m,\u001b[49m\n\u001b[0;32m    678\u001b[0m \u001b[43m    \u001b[49m\u001b[38;5;241;43m*\u001b[39;49m\u001b[38;5;241;43m*\u001b[39;49m\u001b[43mkwargs\u001b[49m\u001b[43m,\u001b[49m\n\u001b[0;32m    679\u001b[0m \u001b[43m\u001b[49m\u001b[43m)\u001b[49m\n",
      "File \u001b[1;32mc:\\Users\\viren\\anaconda3\\envs\\puzzle\\Lib\\site-packages\\pandas\\io\\parquet.py:265\u001b[0m, in \u001b[0;36mPyArrowImpl.read\u001b[1;34m(self, path, columns, filters, use_nullable_dtypes, dtype_backend, storage_options, filesystem, **kwargs)\u001b[0m\n\u001b[0;32m    262\u001b[0m \u001b[38;5;28;01mif\u001b[39;00m manager \u001b[38;5;241m==\u001b[39m \u001b[38;5;124m\"\u001b[39m\u001b[38;5;124marray\u001b[39m\u001b[38;5;124m\"\u001b[39m:\n\u001b[0;32m    263\u001b[0m     to_pandas_kwargs[\u001b[38;5;124m\"\u001b[39m\u001b[38;5;124msplit_blocks\u001b[39m\u001b[38;5;124m\"\u001b[39m] \u001b[38;5;241m=\u001b[39m \u001b[38;5;28;01mTrue\u001b[39;00m  \u001b[38;5;66;03m# type: ignore[assignment]\u001b[39;00m\n\u001b[1;32m--> 265\u001b[0m path_or_handle, handles, filesystem \u001b[38;5;241m=\u001b[39m \u001b[43m_get_path_or_handle\u001b[49m\u001b[43m(\u001b[49m\n\u001b[0;32m    266\u001b[0m \u001b[43m    \u001b[49m\u001b[43mpath\u001b[49m\u001b[43m,\u001b[49m\n\u001b[0;32m    267\u001b[0m \u001b[43m    \u001b[49m\u001b[43mfilesystem\u001b[49m\u001b[43m,\u001b[49m\n\u001b[0;32m    268\u001b[0m \u001b[43m    \u001b[49m\u001b[43mstorage_options\u001b[49m\u001b[38;5;241;43m=\u001b[39;49m\u001b[43mstorage_options\u001b[49m\u001b[43m,\u001b[49m\n\u001b[0;32m    269\u001b[0m \u001b[43m    \u001b[49m\u001b[43mmode\u001b[49m\u001b[38;5;241;43m=\u001b[39;49m\u001b[38;5;124;43m\"\u001b[39;49m\u001b[38;5;124;43mrb\u001b[39;49m\u001b[38;5;124;43m\"\u001b[39;49m\u001b[43m,\u001b[49m\n\u001b[0;32m    270\u001b[0m \u001b[43m\u001b[49m\u001b[43m)\u001b[49m\n\u001b[0;32m    271\u001b[0m \u001b[38;5;28;01mtry\u001b[39;00m:\n\u001b[0;32m    272\u001b[0m     pa_table \u001b[38;5;241m=\u001b[39m \u001b[38;5;28mself\u001b[39m\u001b[38;5;241m.\u001b[39mapi\u001b[38;5;241m.\u001b[39mparquet\u001b[38;5;241m.\u001b[39mread_table(\n\u001b[0;32m    273\u001b[0m         path_or_handle,\n\u001b[0;32m    274\u001b[0m         columns\u001b[38;5;241m=\u001b[39mcolumns,\n\u001b[1;32m   (...)\u001b[0m\n\u001b[0;32m    277\u001b[0m         \u001b[38;5;241m*\u001b[39m\u001b[38;5;241m*\u001b[39mkwargs,\n\u001b[0;32m    278\u001b[0m     )\n",
      "File \u001b[1;32mc:\\Users\\viren\\anaconda3\\envs\\puzzle\\Lib\\site-packages\\pandas\\io\\parquet.py:139\u001b[0m, in \u001b[0;36m_get_path_or_handle\u001b[1;34m(path, fs, storage_options, mode, is_dir)\u001b[0m\n\u001b[0;32m    129\u001b[0m handles \u001b[38;5;241m=\u001b[39m \u001b[38;5;28;01mNone\u001b[39;00m\n\u001b[0;32m    130\u001b[0m \u001b[38;5;28;01mif\u001b[39;00m (\n\u001b[0;32m    131\u001b[0m     \u001b[38;5;129;01mnot\u001b[39;00m fs\n\u001b[0;32m    132\u001b[0m     \u001b[38;5;129;01mand\u001b[39;00m \u001b[38;5;129;01mnot\u001b[39;00m is_dir\n\u001b[1;32m   (...)\u001b[0m\n\u001b[0;32m    137\u001b[0m     \u001b[38;5;66;03m# fsspec resources can also point to directories\u001b[39;00m\n\u001b[0;32m    138\u001b[0m     \u001b[38;5;66;03m# this branch is used for example when reading from non-fsspec URLs\u001b[39;00m\n\u001b[1;32m--> 139\u001b[0m     handles \u001b[38;5;241m=\u001b[39m \u001b[43mget_handle\u001b[49m\u001b[43m(\u001b[49m\n\u001b[0;32m    140\u001b[0m \u001b[43m        \u001b[49m\u001b[43mpath_or_handle\u001b[49m\u001b[43m,\u001b[49m\u001b[43m \u001b[49m\u001b[43mmode\u001b[49m\u001b[43m,\u001b[49m\u001b[43m \u001b[49m\u001b[43mis_text\u001b[49m\u001b[38;5;241;43m=\u001b[39;49m\u001b[38;5;28;43;01mFalse\u001b[39;49;00m\u001b[43m,\u001b[49m\u001b[43m \u001b[49m\u001b[43mstorage_options\u001b[49m\u001b[38;5;241;43m=\u001b[39;49m\u001b[43mstorage_options\u001b[49m\n\u001b[0;32m    141\u001b[0m \u001b[43m    \u001b[49m\u001b[43m)\u001b[49m\n\u001b[0;32m    142\u001b[0m     fs \u001b[38;5;241m=\u001b[39m \u001b[38;5;28;01mNone\u001b[39;00m\n\u001b[0;32m    143\u001b[0m     path_or_handle \u001b[38;5;241m=\u001b[39m handles\u001b[38;5;241m.\u001b[39mhandle\n",
      "File \u001b[1;32mc:\\Users\\viren\\anaconda3\\envs\\puzzle\\Lib\\site-packages\\pandas\\io\\common.py:872\u001b[0m, in \u001b[0;36mget_handle\u001b[1;34m(path_or_buf, mode, encoding, compression, memory_map, is_text, errors, storage_options)\u001b[0m\n\u001b[0;32m    863\u001b[0m         handle \u001b[38;5;241m=\u001b[39m \u001b[38;5;28mopen\u001b[39m(\n\u001b[0;32m    864\u001b[0m             handle,\n\u001b[0;32m    865\u001b[0m             ioargs\u001b[38;5;241m.\u001b[39mmode,\n\u001b[1;32m   (...)\u001b[0m\n\u001b[0;32m    868\u001b[0m             newline\u001b[38;5;241m=\u001b[39m\u001b[38;5;124m\"\u001b[39m\u001b[38;5;124m\"\u001b[39m,\n\u001b[0;32m    869\u001b[0m         )\n\u001b[0;32m    870\u001b[0m     \u001b[38;5;28;01melse\u001b[39;00m:\n\u001b[0;32m    871\u001b[0m         \u001b[38;5;66;03m# Binary mode\u001b[39;00m\n\u001b[1;32m--> 872\u001b[0m         handle \u001b[38;5;241m=\u001b[39m \u001b[38;5;28;43mopen\u001b[39;49m\u001b[43m(\u001b[49m\u001b[43mhandle\u001b[49m\u001b[43m,\u001b[49m\u001b[43m \u001b[49m\u001b[43mioargs\u001b[49m\u001b[38;5;241;43m.\u001b[39;49m\u001b[43mmode\u001b[49m\u001b[43m)\u001b[49m\n\u001b[0;32m    873\u001b[0m     handles\u001b[38;5;241m.\u001b[39mappend(handle)\n\u001b[0;32m    875\u001b[0m \u001b[38;5;66;03m# Convert BytesIO or file objects passed with an encoding\u001b[39;00m\n",
      "\u001b[1;31mFileNotFoundError\u001b[0m: [Errno 2] No such file or directory: 'C:\\\\Users\\\\viren\\\\Documents\\\\GitHub\\\\constantinides_2013_options\\\\data\\\\spx_filtered_final_1996-01_2019-12.parquet'"
     ]
    }
   ],
   "source": [
    "# read filtered data\n",
    "\n",
    "spx_filtered = pd.read_parquet(Path(DATA_DIR / f'spx_filtered_final_{DATE_RANGE}.parquet'))\n",
    "spx_filtered"
   ]
  },
  {
   "cell_type": "markdown",
   "id": "0c5fc146",
   "metadata": {},
   "source": [
    "## Portfolio Construction Process\n",
    "\n",
    "Portfolios are defined as follows:\n",
    "- Portfolio return from $t-1$ to $t$ is defined as $\\Rho_{C or P,m,T,t}$, where $\\Rho$ is the daily return of a call ($C$) or put ($P$) portfolio, with moneyness $m$ and maturity $T$ days, where $T \\in {30, 60, 90}$, at time $t$.\n",
    "$$\n",
    "\\begin{align}\n",
    "\\Rho_{C,m,t} &= xC_t - yr_f \\\\\n",
    "\\Rho_{P,m,t} &= -zP_t + br_f\n",
    "\n",
    "\\end{align}\n",
    "$$\n"
   ]
  },
  {
   "cell_type": "code",
   "execution_count": null,
   "id": "cfb48684",
   "metadata": {},
   "outputs": [],
   "source": [
    "pd.date_tDATE_RANGE"
   ]
  },
  {
   "cell_type": "code",
   "execution_count": null,
   "id": "c2c01c15",
   "metadata": {},
   "outputs": [
    {
     "name": "stderr",
     "output_type": "stream",
     "text": [
      "Exception ignored in: <bound method IPythonKernel._clean_thread_parent_frames of <ipykernel.ipkernel.IPythonKernel object at 0x000001F7B5548090>>\n",
      "Traceback (most recent call last):\n",
      "  File \"c:\\Users\\viren.desai\\OneDrive - Aprio, LLP\\Documents\\repos\\constantinides_2013_options\\puzzle\\Lib\\site-packages\\ipykernel\\ipkernel.py\", line 775, in _clean_thread_parent_frames\n",
      "    def _clean_thread_parent_frames(\n",
      "\n",
      "KeyboardInterrupt: \n"
     ]
    }
   ],
   "source": [
    "moneyness_tgts = [0.90, 0.925, 0.95, 0.975, 1.00, 1.025, 1.05, 1.075, 1.10] # K/S, so < 1 = puts are OTM/calls are ITM, and > 1 calls are OTM/puts are ITM\n",
    "maturity_tgts = [30, 60, 90]  # in days. For HKM, these are averaged\n",
    "option_types = ['C', 'P']  # 'call' and 'put' options\n",
    "\n",
    "portfolio_idx = pd.MultiIndex.from_tuples(\n",
    "    [(opt_type, k_s, ttm) for opt_type in option_types for k_s in moneyness_tgts for ttm in maturity_tgts for trade_date in spx_filtered.index.get_level_values('date')],\n",
    "    names=['option_type', 'moneyness', 'days_to_maturity', 'trade_date']\n",
    ")\n",
    "\n",
    "portfolios = pd.DataFrame(index=portfolio_idx, columns=['daily_rets', 'monthly_rets'])\n",
    "portfolios"
   ]
  },
  {
   "cell_type": "code",
   "execution_count": null,
   "id": "c52f334b",
   "metadata": {},
   "outputs": [],
   "source": []
  },
  {
   "cell_type": "code",
   "execution_count": null,
   "id": "76e4cef5",
   "metadata": {},
   "outputs": [],
   "source": []
  }
 ],
 "metadata": {
  "kernelspec": {
   "display_name": "puzzle",
   "language": "python",
   "name": "python3"
  },
  "language_info": {
   "codemirror_mode": {
    "name": "ipython",
    "version": 3
   },
   "file_extension": ".py",
   "mimetype": "text/x-python",
   "name": "python",
   "nbconvert_exporter": "python",
   "pygments_lexer": "ipython3",
   "version": "3.12.2"
  }
 },
 "nbformat": 4,
 "nbformat_minor": 5
}
