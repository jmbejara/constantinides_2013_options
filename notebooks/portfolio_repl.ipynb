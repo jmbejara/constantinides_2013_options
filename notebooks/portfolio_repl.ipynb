{
 "cells": [
  {
   "cell_type": "code",
   "execution_count": null,
   "id": "f5144f67",
   "metadata": {},
   "outputs": [],
   "source": [
    "import numpy as np\n",
    "import pandas as pd\n",
    "from scipy.stats import norm\n",
    "from scipy.spatial.distance import cdist\n"
   ]
  },
  {
   "cell_type": "code",
   "execution_count": 1,
   "id": "a1e7fee1",
   "metadata": {},
   "outputs": [],
   "source": [
    "# --- Black-Scholes elasticity ---\n",
    "def bs_elasticity(S, K, T, r, sigma, option_type='call'):\n",
    "    d1 = (np.log(S / K) + (r + 0.5 * sigma ** 2) * T) / (sigma * np.sqrt(T))\n",
    "    if option_type == 'call':\n",
    "        price = S * norm.cdf(d1) - K * np.exp(-r * T) * norm.cdf(d1 - sigma * np.sqrt(T))\n",
    "        delta = norm.cdf(d1)\n",
    "    else:\n",
    "        price = K * np.exp(-r * T) * norm.cdf(-d1 + sigma * np.sqrt(T)) - S * norm.cdf(-d1)\n",
    "        delta = -norm.cdf(-d1)\n",
    "    return (delta * S / price), price\n",
    "\n",
    "# --- Kernel Weights ---\n",
    "def kernel_weights(moneyness_grid, maturity_grid, k_s, ttm, bw_m=0.0125, bw_t=10):\n",
    "    grid = np.column_stack((moneyness_grid, maturity_grid))\n",
    "    point = np.array([[k_s, ttm]])\n",
    "    dists = cdist(grid, point, 'euclidean')[:, 0]\n",
    "    weights = np.exp(-0.5 * (dists / np.array([bw_m, bw_t])).sum())\n",
    "    return weights / weights.sum()\n",
    "\n",
    "# --- Construct a single day portfolio ---\n",
    "def construct_portfolio(data, k_s_target, ttm_target, option_type='call', r=0.01):\n",
    "    subset = data[(data['option_type'] == option_type)]\n",
    "    weights = kernel_weights(subset['moneyness'], subset['ttm'], k_s_target, ttm_target)\n",
    "    subset = subset.assign(weight=weights)\n",
    "    subset = subset[subset['weight'] > 0.01]\n",
    "    subset['weight'] /= subset['weight'].sum()\n",
    "\n",
    "    # Leverage-adjusted returns\n",
    "    elast, price = bs_elasticity(\n",
    "        S=subset['underlying'], K=subset['strike'], T=subset['ttm']/365,\n",
    "        r=r, sigma=subset['iv'], option_type=option_type\n",
    "    )\n",
    "    subset['leverage_return'] = subset['daily_return'] / elast\n",
    "\n",
    "    return (subset['leverage_return'] * subset['weight']).sum()\n",
    "\n",
    "# --- Main Loop (simplified) ---\n",
    "def build_portfolios(option_data, m_grid, ttm_grid, option_types=['call', 'put']):\n",
    "    portfolios = []\n",
    "    for opt_type in option_types:\n",
    "        for k_s in m_grid:\n",
    "            for ttm in ttm_grid:\n",
    "                ret = construct_portfolio(option_data, k_s, ttm, option_type=opt_type)\n",
    "                portfolios.append({\n",
    "                    'type': opt_type,\n",
    "                    'moneyness': k_s,\n",
    "                    'ttm': ttm,\n",
    "                    'return': ret\n",
    "                })\n",
    "    return pd.DataFrame(portfolios)\n"
   ]
  },
  {
   "cell_type": "code",
   "execution_count": null,
   "id": "b9d3296c",
   "metadata": {},
   "outputs": [],
   "source": []
  }
 ],
 "metadata": {
  "kernelspec": {
   "display_name": "puzzle",
   "language": "python",
   "name": "python3"
  },
  "language_info": {
   "codemirror_mode": {
    "name": "ipython",
    "version": 3
   },
   "file_extension": ".py",
   "mimetype": "text/x-python",
   "name": "python",
   "nbconvert_exporter": "python",
   "pygments_lexer": "ipython3",
   "version": "3.12.2"
  }
 },
 "nbformat": 4,
 "nbformat_minor": 5
}
